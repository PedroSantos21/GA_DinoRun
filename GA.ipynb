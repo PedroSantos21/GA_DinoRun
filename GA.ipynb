{
 "cells": [
  {
   "cell_type": "markdown",
   "metadata": {},
   "source": [
    "# OVERVIEW AG\n",
    "\n",
    "**ENTRADA**: \n",
    "- População Inicial Aleatória\n",
    "- Função fitness\n",
    "- Critério de parada (convergência ou n° de gerações)\n",
    "\n",
    "while criterio de parada:\n",
    "- 1) aplicar função fitness em cada indivíduo\n",
    "- 2) Selecionar os melhores indíviduos\n",
    "- 3) Reprodução\n",
    "    - Crossover\n",
    "    - Mutação\n",
    "- 4) Nova população\n",
    "\n",
    "**SAÍDA**:\n",
    "- Melhor indivíviduo da geração final"
   ]
  },
  {
   "cell_type": "markdown",
   "metadata": {},
   "source": [
    "***PROBLEMA***: Dino Run\n",
    "\n",
    "- 1) Ações\n",
    "    - Pular\n",
    "    - Agachar\n",
    "    - Não fazer nada"
   ]
  },
  {
   "cell_type": "markdown",
   "metadata": {},
   "source": [
    "Instalando biblioteca do jogo..."
   ]
  },
  {
   "cell_type": "code",
   "execution_count": 1,
   "metadata": {},
   "outputs": [
    {
     "name": "stdout",
     "output_type": "stream",
     "text": [
      "Collecting git+https://github.com/GrupoTuringCodes/chrome-trex-rush@master\n",
      "  Cloning https://github.com/GrupoTuringCodes/chrome-trex-rush (to revision master) to /tmp/pip-req-build-uf_4nwfk\n",
      "  Running command git clone -q https://github.com/GrupoTuringCodes/chrome-trex-rush /tmp/pip-req-build-uf_4nwfk\n",
      "Requirement already satisfied (use --upgrade to upgrade): chrome-trex==0.0.1 from git+https://github.com/GrupoTuringCodes/chrome-trex-rush@master in /home/pedro/.local/lib/python3.7/site-packages\n",
      "Requirement already satisfied: pygame in /home/pedro/.local/lib/python3.7/site-packages (from chrome-trex==0.0.1) (1.9.6)\n",
      "Building wheels for collected packages: chrome-trex\n",
      "  Building wheel for chrome-trex (setup.py) ... \u001b[?25ldone\n",
      "\u001b[?25h  Created wheel for chrome-trex: filename=chrome_trex-0.0.1-py3-none-any.whl size=18064 sha256=13a676c936a70b4d9e8cd5e24c9f44243c2acee8afca47a215428994e7c40f11\n",
      "  Stored in directory: /tmp/pip-ephem-wheel-cache-qycs7n2b/wheels/ed/54/73/d3d445a03f65e6c50b02a7211fa16a34b7a9f2730413a5c81a\n",
      "Successfully built chrome-trex\n"
     ]
    }
   ],
   "source": [
    "!pip install --user git+https://github.com/GrupoTuringCodes/chrome-trex-rush@master"
   ]
  },
  {
   "cell_type": "code",
   "execution_count": 2,
   "metadata": {},
   "outputs": [],
   "source": [
    "# IMPORTS\n",
    "import numpy as np\n",
    "import random\n",
    "from chrome_trex import DinoGame"
   ]
  },
  {
   "cell_type": "code",
   "execution_count": 3,
   "metadata": {},
   "outputs": [],
   "source": [
    "# GA VARIABLES\n",
    "MUTATION_RATE   = .20\n",
    "CROSSOVER_RATE  = .20\n",
    "POPULATION_SIZE =  15\n",
    "ELITISM         =  3  #elitism (steady state)"
   ]
  },
  {
   "cell_type": "markdown",
   "metadata": {},
   "source": [
    "### Initialize a random population"
   ]
  },
  {
   "cell_type": "code",
   "execution_count": 4,
   "metadata": {},
   "outputs": [],
   "source": [
    "def initRandomPopulation(size):\n",
    "    \"\"\"\n",
    "    args:\n",
    "        size: Population Size\n",
    "    \n",
    "    output:\n",
    "        Random Population. Matriz 3x10. Where 3 represents the\n",
    "        number of possible actions and 10 the weights of each\n",
    "        action.\n",
    "    \"\"\"\n",
    "    \n",
    "    population = []\n",
    "    for i in range(size):\n",
    "        population.append(np.random.uniform(low=-10, high=10, size=(3,10)))\n",
    "        \n",
    "    return population"
   ]
  },
  {
   "cell_type": "markdown",
   "metadata": {},
   "source": [
    "### Decision Process"
   ]
  },
  {
   "cell_type": "code",
   "execution_count": 5,
   "metadata": {},
   "outputs": [],
   "source": [
    "def actionValues(individual, state):\n",
    "    \"\"\"\n",
    "    args:\n",
    "        - individual: 3x10 Matrix with individual weights\n",
    "        - state: State of the game, represented by an array of \n",
    "                 size 10\n",
    "    \n",
    "    output:\n",
    "        - Array with the result of the action in the state analyzed\n",
    "    \"\"\"\n",
    "    return individual @ state\n",
    "    "
   ]
  },
  {
   "cell_type": "code",
   "execution_count": 6,
   "metadata": {},
   "outputs": [],
   "source": [
    "def bestPlay(individual, state):\n",
    "    \"\"\"\n",
    "    args:\n",
    "        - individual: 3x10 Matrix with individual weights\n",
    "        - state: State of the game, represented by an array of \n",
    "                 size 10\n",
    "    \n",
    "    output:\n",
    "        - The action (0, 1 or 2) with best (MAXIMUM) result.\n",
    "    \"\"\"\n",
    "    values = actionValues(individual, state)\n",
    "    return np.argmax(values)\n",
    "    "
   ]
  },
  {
   "cell_type": "markdown",
   "metadata": {},
   "source": [
    "### Reproduction"
   ]
  },
  {
   "cell_type": "code",
   "execution_count": 7,
   "metadata": {},
   "outputs": [],
   "source": [
    "def mutation(individual):\n",
    "    \"\"\"\n",
    "    args:\n",
    "        - individual: 3x10 Matrix with individual weights\n",
    "    output:\n",
    "    \n",
    "    \"\"\"\n",
    "    \n",
    "    for i in range(individual.shape[0]): #3\n",
    "        for j in range(individual.shape[1]): #10\n",
    "            if np.random.uniform(0, 1) < MUTATION_RATE:\n",
    "                individual[i][j] *= np.random.uniform(-1.5, 1.5)  \n",
    "    "
   ]
  },
  {
   "cell_type": "code",
   "execution_count": 8,
   "metadata": {},
   "outputs": [],
   "source": [
    "def crossover(individual1, individual2):\n",
    "    \"\"\"\n",
    "    args:\n",
    "        - individual: 3x10 Matrix with individual weights\n",
    "        \n",
    "    output:\n",
    "        - New individual resulting from individual1 and individual2\n",
    "        combination\n",
    "    \"\"\"\n",
    "    \n",
    "    child = individual1.copy()\n",
    "    \n",
    "    for i in range(individual1.shape[0]): #3\n",
    "        for j in range(individual1.shape[1]): #10\n",
    "            if np.random.uniform(0, 1) < CROSSOVER_RATE:\n",
    "                child[i][j] = individual2[i][j]\n",
    "    \n",
    "    return child"
   ]
  },
  {
   "cell_type": "markdown",
   "metadata": {},
   "source": [
    "### Fitness"
   ]
  },
  {
   "cell_type": "code",
   "execution_count": 9,
   "metadata": {},
   "outputs": [],
   "source": [
    "def fitness(problem, individual):\n",
    "    \"\"\"\n",
    "    args:\n",
    "        - problem: object that represents the problem to be solved\n",
    "        - individual: possible solution\n",
    "        \n",
    "    output:\n",
    "        - score: Value that measure how good the individual performs in\n",
    "        the problem\n",
    "    \"\"\"\n",
    "    \n",
    "    problem.reset()\n",
    "    while not problem.game_over:\n",
    "        state = problem.get_state()\n",
    "        action = bestPlay(individual, state)\n",
    "        problem.step(action)\n",
    "    \n",
    "    return problem.get_score()"
   ]
  },
  {
   "cell_type": "code",
   "execution_count": 10,
   "metadata": {},
   "outputs": [],
   "source": [
    "def sortByFitness(population, order, descending=True):\n",
    "    \"\"\"\n",
    "    args:\n",
    "        - population: individual to be ordered based on their fitness\n",
    "        - order: Ordenation priority\n",
    "        - descending: Boolean variable to decide how to order: ascending \n",
    "                      or descending\n",
    "                      \n",
    "    output:\n",
    "    \n",
    "        - Population Ordered by its fitness\n",
    "    \"\"\"\n",
    "    \n",
    "    return [x for _, x in sorted(zip(order, population), key=lambda p: p[0], reverse=descending)]\n"
   ]
  },
  {
   "cell_type": "code",
   "execution_count": 11,
   "metadata": {},
   "outputs": [],
   "source": [
    "def nextGeneration(population, fitness):\n",
    "    \"\"\"\n",
    "    args:\n",
    "        - population: list of individuals\n",
    "        - fitness: list of individual fitness\n",
    "        \n",
    "    output:\n",
    "        - Next generation\n",
    "        \n",
    "    STEPS:\n",
    "        1) ELISTISM\n",
    "        2) UNTIL FULFIL THE NEXT GENERATION:\n",
    "            2.1) SELECT RANDOMLY 2 INDIVIDUALS\n",
    "            2.2) PERFORM CROSSOVER AND GENERATE A NEW INDIVIDUAL\n",
    "            2.3) PERFORM MUTATIO\n",
    "            2.4) PERFORM MUTATION\n",
    "            2.5) APPEND THIS INDIVIDUAL IN THE NEXT GENERATION\n",
    "    \"\"\"\n",
    "    \n",
    "#     Perform Elitism\n",
    "    orderedPopulation = sortByFitness(population, fitness)\n",
    "\n",
    "#   Send the best individuals to the next generation\n",
    "    nextGeneration = orderedPopulation[:ELITISM]\n",
    "    \n",
    "    while len(nextGeneration) < POPULATION_SIZE:\n",
    "#       Crossover\n",
    "        ind1, ind2 = random.choices(population, k=2)\n",
    "        child = crossover(ind1, ind2)\n",
    "        \n",
    "#        Mutation\n",
    "        mutation(child)\n",
    "        \n",
    "#        Append individual in the next generation\n",
    "        nextGeneration.append(child)\n",
    "    \n",
    "    return nextGeneration\n",
    "    \n",
    "    "
   ]
  },
  {
   "cell_type": "markdown",
   "metadata": {},
   "source": [
    "# GA Implementation"
   ]
  },
  {
   "cell_type": "code",
   "execution_count": 12,
   "metadata": {},
   "outputs": [
    {
     "name": "stdout",
     "output_type": "stream",
     "text": [
      "Best:  [[ 6.18209339e-02  1.34365285e-01 -6.95021176e-02 -4.06182574e-01\n",
      "  -3.17364105e+00 -2.44791037e-01 -4.55713986e-02 -1.58334459e+00\n",
      "   1.42280139e-01 -8.45957421e-03]\n",
      " [-4.26276593e+00  8.23611329e-03  3.14113262e-01  2.34830131e-01\n",
      "   2.35236303e-01 -3.30818525e-01  1.35009531e-02 -8.32666155e-01\n",
      "   4.29684988e-02  8.01516444e-02]\n",
      " [-8.20767702e-01  8.27226802e-01 -1.15377852e-02 -2.21061990e-01\n",
      "  -1.12696903e-03  5.07452026e-01 -6.92950583e-01 -2.38577287e-01\n",
      "  -3.42130255e-01 -2.41693021e+00]]\n",
      "Fitness: 96.0\n"
     ]
    }
   ],
   "source": [
    "# Generations\n",
    "NUM_GENERATIONS = 100\n",
    "\n",
    "# Problem\n",
    "problem = DinoGame(fps=50_000)\n",
    "\n",
    "# Create a random initial population\n",
    "population = initRandomPopulation(POPULATION_SIZE)\n",
    "\n",
    "for _ in range(NUM_GENERATIONS):\n",
    "    \n",
    "    fitness_list = []\n",
    "    for ind in population:\n",
    "        fitness_list.append(fitness(problem, ind))\n",
    "    \n",
    "    # Próxima geração\n",
    "    population = nextGeneration(population, fitness_list)\n",
    "\n",
    "\n",
    "# Last Generation\n",
    "fitness_list = []\n",
    "for ind in population:\n",
    "    fitness_list.append(fitness(problem, ind))\n",
    "\n",
    "# Evaluate the best individual\n",
    "best = (sortByFitness(population, fitness_list))[0]\n",
    "\n",
    "# Print best individual\n",
    "print('Best: ', best)\n",
    "\n",
    "# Execute\n",
    "fit = fitness(problem, best)\n",
    "    \n",
    "print('Fitness: {:4.1f}'.format(fit))"
   ]
  },
  {
   "cell_type": "code",
   "execution_count": null,
   "metadata": {},
   "outputs": [],
   "source": []
  }
 ],
 "metadata": {
  "kernelspec": {
   "display_name": "Python 3",
   "language": "python",
   "name": "python3"
  },
  "language_info": {
   "codemirror_mode": {
    "name": "ipython",
    "version": 3
   },
   "file_extension": ".py",
   "mimetype": "text/x-python",
   "name": "python",
   "nbconvert_exporter": "python",
   "pygments_lexer": "ipython3",
   "version": "3.7.7"
  }
 },
 "nbformat": 4,
 "nbformat_minor": 4
}
